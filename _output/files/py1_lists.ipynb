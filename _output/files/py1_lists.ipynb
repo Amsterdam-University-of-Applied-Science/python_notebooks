{
  "nbformat": 4,
  "nbformat_minor": 0,
  "metadata": {
    "colab": {
      "provenance": [],
      "private_outputs": true
    },
    "kernelspec": {
      "name": "python3",
      "display_name": "Python 3"
    },
    "language_info": {
      "name": "python"
    }
  },
  "cells": [
    {
      "cell_type": "markdown",
      "source": [
        "#Lists\n",
        "\n",
        "* created : 26-09-2022\n",
        "* updated : 26-09-2023\n"
      ],
      "metadata": {
        "id": "rggyiU64Sg88"
      }
    },
    {
      "cell_type": "markdown",
      "source": [
        "#Kenmerken\n",
        "\n",
        "*   Lijsten kunnen verschillende datatypes (en datastructuren) bevatten\n",
        "*   De elementen van een lijst hoeven niet uniek te zijn\n",
        "\n"
      ],
      "metadata": {
        "id": "mOoEWjStTNBt"
      }
    },
    {
      "cell_type": "markdown",
      "source": [
        "#Methods"
      ],
      "metadata": {
        "id": "ac9qb9uOTR8l"
      }
    },
    {
      "cell_type": "code",
      "execution_count": null,
      "metadata": {
        "id": "Rcm-DwyhSgNu"
      },
      "outputs": [],
      "source": [
        "#@title 1 append() - voeg een element toe aan het eind van de lijst { display-mode: \"code\" }\n",
        "# voorbeeld:\n",
        "klas = ['Seyma','Felix',\"César\", \"0001\", 10]\n",
        "klas.append('Mouaad')\n",
        "print(klas)"
      ]
    },
    {
      "cell_type": "code",
      "source": [
        "#@title 2 clear() - verwijder alle elementen uit een lijst { display-mode: \"code\" }\n",
        "# voorbeeld:\n",
        "klas = ['Sergi','Nick']\n",
        "print(\"before clear(): \",klas)\n",
        "klas.clear()\n",
        "print(\"after clear(): \",klas)"
      ],
      "metadata": {
        "id": "k-6V_qYPV3aZ"
      },
      "execution_count": null,
      "outputs": []
    },
    {
      "cell_type": "code",
      "source": [
        "#@title 3 copy() - kopieer een lijst { display-mode: \"code\" }\n",
        "# voorbeeld van het gebruik van copy()\n",
        "klas = ['Amra','Saron']\n",
        "team = klas.copy()\n",
        "print(\"Oorspronkelijke lijst :\",klas)\n",
        "print(\"Gekopieerde lijst :\",team)"
      ],
      "metadata": {
        "id": "lF67-PyrZSPa"
      },
      "execution_count": null,
      "outputs": []
    },
    {
      "cell_type": "code",
      "source": [
        "#@title 4 count() - tel het aantal keren dat een element in een lijst voorkomt { display-mode: \"code\" }\n",
        "# voorbeeld:\n",
        "klas = ['Nathan','Bas','Bas']\n",
        "print(\"Aantal keren 'Bas' in de lijst: \", klas.count(\"Bas\"))"
      ],
      "metadata": {
        "id": "r5p3Rm9GW2l1"
      },
      "execution_count": null,
      "outputs": []
    },
    {
      "cell_type": "markdown",
      "source": [
        "<a class=\"anchor\" name=\"list_method_count\"></a>\n",
        "## 5 extend()\n",
        "verleng een lijst met de elementen van een andere lijst\n"
      ],
      "metadata": {
        "id": "K7w_OZJ7U9ur"
      }
    },
    {
      "cell_type": "code",
      "source": [
        "# voorbeeld van het gebruik van extend()\n",
        "klas1 = ['Noadja','Furkan']\n",
        "klas2 = ['Luuk','Julia']\n",
        "klas1.extend(klas2)\n",
        "print(klas1)"
      ],
      "metadata": {
        "id": "geKsuXEJ__LO"
      },
      "execution_count": null,
      "outputs": []
    },
    {
      "cell_type": "markdown",
      "source": [
        "<a class=\"anchor\" name=\"list_method_index\"></a>\n",
        "##6 index()\n",
        "bepaal de positie van een element in een lijst"
      ],
      "metadata": {
        "id": "wKeYXK17Vht4"
      }
    },
    {
      "cell_type": "code",
      "source": [
        "#voorbeeld van het gebruik van index()\n",
        "klas = ['Nathan','Akash','Luuk','Sam']\n",
        "x = klas.index('Nathan')\n",
        "print(\"Positie van Nathan in de lijst: \", x)\n",
        "#merk op: indices beginen bij 0"
      ],
      "metadata": {
        "id": "5ctwxOPNPxxt"
      },
      "execution_count": null,
      "outputs": []
    },
    {
      "cell_type": "markdown",
      "source": [
        "<a class=\"anchor\" name=\"list_method_insert\"></a>\n",
        "## 7 insert()\n",
        "tussenvoegen van een element in een lijst op een aangegeven locatie\n"
      ],
      "metadata": {
        "id": "6JP3CfLyVbk_"
      }
    },
    {
      "cell_type": "code",
      "source": [
        "# voorbeeld van het gebruik van insert()\n",
        "klas = ['Amra','Romek','Akash']\n",
        "klas.insert(0,'Ditte')\n",
        "print(klas)"
      ],
      "metadata": {
        "id": "iCGt1AdSGQnh"
      },
      "execution_count": null,
      "outputs": []
    },
    {
      "cell_type": "code",
      "source": [
        "#@title 8 pop() - verwijderen van een element op een bepaalde positie uit een lijst { display-mode: \"code\" }\n",
        "# voorbeeld van het gebruik van pop()\n",
        "klas = ['Amra','Amra','Akash','Akash','Nathan','Bas','Bas']\n",
        "klas.pop(1)\n",
        "print(klas)\n",
        "klas.pop(1)\n",
        "print(klas)"
      ],
      "metadata": {
        "id": "xrCUpuuxRU9y"
      },
      "execution_count": null,
      "outputs": []
    },
    {
      "cell_type": "code",
      "source": [
        "#@title 9 remove() - verwijderen het eerst overeenkomende element uit de lijst { display-mode: \"code\" }\n",
        "# voorbeeld:\n",
        "klas = ['Amra','Amra','Akash','Akash']\n",
        "klas.remove('Amra')\n",
        "print(klas)"
      ],
      "metadata": {
        "id": "-D9pt0nLJ5ij"
      },
      "execution_count": null,
      "outputs": []
    },
    {
      "cell_type": "markdown",
      "source": [
        "10 reverse() - keer de volgorde om van de elementen in een lijst"
      ],
      "metadata": {
        "id": "lFmar7NCVbWy"
      }
    },
    {
      "cell_type": "code",
      "source": [
        "# voorbeeld van het gebruik van reverse()\n",
        "klas = ['Wessel','Keke','Sam','Ditte']\n",
        "klas.reverse()\n",
        "print(klas)"
      ],
      "metadata": {
        "id": "qd4FJjOuFUmi"
      },
      "execution_count": null,
      "outputs": []
    },
    {
      "cell_type": "markdown",
      "source": [
        "11 sort() - sorteer de elementen in een lijst (op alfabet)"
      ],
      "metadata": {
        "id": "GB5ohprBVa73"
      }
    },
    {
      "cell_type": "code",
      "source": [
        "# voorbeeld van het gebruik van sort()\n",
        "klas = ['Wessel','Keke','Sam','Ditte']\n",
        "klas.sort()\n",
        "print(klas)"
      ],
      "metadata": {
        "id": "3YhWqLwXEuGd"
      },
      "execution_count": null,
      "outputs": []
    }
  ]
}