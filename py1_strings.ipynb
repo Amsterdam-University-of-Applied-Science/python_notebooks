{
  "nbformat": 4,
  "nbformat_minor": 0,
  "metadata": {
    "colab": {
      "provenance": [],
      "private_outputs": true,
      "toc_visible": true
    },
    "kernelspec": {
      "name": "python3",
      "display_name": "Python 3"
    },
    "language_info": {
      "name": "python"
    },
    "gpuClass": "standard"
  },
  "cells": [
    {
      "cell_type": "markdown",
      "source": [
        "# Strings\n",
        "\n",
        "* Created: 15/02/2023\n",
        "* Updates: 18/01/2025\n",
        "\n",
        "Een selectie van 16 van de 44 string methods in Python."
      ],
      "metadata": {
        "id": "177hsRp0a3mm"
      }
    },
    {
      "cell_type": "markdown",
      "source": [
        "#Kenmerken\n",
        "\n",
        "Een \"string\" is een tekst die omsloten is door enkele of dubbele aanhalingstekens. Een string mag iedere lengte mag hebben, inclusief een lengte nul (\"\")."
      ],
      "metadata": {
        "id": "0WYQamn6bbBF"
      }
    },
    {
      "cell_type": "markdown",
      "source": [
        "[capitalize](#capitalize), [casefold](#casefold), [center](#center), [count](#count), [encode](#encode), ..."
      ],
      "metadata": {
        "id": "i6q7et62TG9P"
      }
    },
    {
      "cell_type": "markdown",
      "source": [
        "#Methods (44)"
      ],
      "metadata": {
        "id": "NGhFWCt3bgKe"
      }
    },
    {
      "cell_type": "markdown",
      "source": [
        "<a id=\"capitalize\"></a>\n",
        "1 capitalize() - verander het eerste karakter van een string in een hoofdletter\n"
      ],
      "metadata": {
        "id": "ptbhd3uDbtPp"
      }
    },
    {
      "cell_type": "code",
      "source": [
        "# voorbeeld van het gebruik van capitalize()\n",
        "stadion = \"sOEst\"\n",
        "print(stadion.capitalize())"
      ],
      "metadata": {
        "id": "ui9mwucHdfD5"
      },
      "execution_count": null,
      "outputs": []
    },
    {
      "cell_type": "markdown",
      "source": [
        "<a id=\"casefold\"></a>\n",
        "2 casefold() - verander alle characters van een string in small-caps\n"
      ],
      "metadata": {
        "id": "t4USVDfYbCZ8"
      }
    },
    {
      "cell_type": "code",
      "source": [
        "# voorbeeld van het gebruik van casefold()\n",
        "stadion = \"ArenA\"\n",
        "print(stadion.casefold())"
      ],
      "metadata": {
        "id": "UpB_NfCmdnFl"
      },
      "execution_count": null,
      "outputs": []
    },
    {
      "cell_type": "markdown",
      "source": [
        "<a id=\"center\"></a>\n",
        "3 center() - centreer een string"
      ],
      "metadata": {
        "id": "RMZFNKKpc-gT"
      }
    },
    {
      "cell_type": "code",
      "source": [
        "# voorbeeld van het gebruik van center()\n",
        "stadion = \"arena\"\n",
        "meetlat = \"01234567890123456789\"\n",
        "print(meetlat)\n",
        "print(stadion.center(20,\"-\"))"
      ],
      "metadata": {
        "id": "-7-QqushdtzY"
      },
      "execution_count": null,
      "outputs": []
    },
    {
      "cell_type": "markdown",
      "source": [
        "<a id=\"count\"></a>\n",
        "4 count() - tel hoe vaak een karakter in een string voorkomt\n"
      ],
      "metadata": {
        "id": "m84IA9N9c-P7"
      }
    },
    {
      "cell_type": "code",
      "source": [
        "# voorbeeld van het gebruik van count()\n",
        "stadion = \"arena1\"\n",
        "print(stadion.count(\"1\"))"
      ],
      "metadata": {
        "id": "qFJUiJO6dx0o"
      },
      "execution_count": null,
      "outputs": []
    },
    {
      "cell_type": "markdown",
      "source": [
        "<a id=\"encode\"></a>\n",
        "5 encode() - geef alle elementen van een dictionary weer\n"
      ],
      "metadata": {
        "id": "GVCKv_ktc94p"
      }
    },
    {
      "cell_type": "code",
      "source": [
        "# voorbeeld van het gebruik van encode()\n",
        "stadion =\"äïüë\"\n",
        "print(stadion.encode())"
      ],
      "metadata": {
        "id": "2kAdL1fAd1hz"
      },
      "execution_count": null,
      "outputs": []
    },
    {
      "cell_type": "markdown",
      "source": [
        "<a id=\"endswith\"></a>\n",
        "6 endswith() - true indien het einde van de string op een bepaald karakter eindigd\n"
      ],
      "metadata": {
        "id": "1LoI6UJTa95n"
      }
    },
    {
      "cell_type": "code",
      "source": [
        "# voorbeeld van het gebruik van endswith()\n",
        "stadion =\"ArenA\"\n",
        "print(stadion.endswith(\"r\"))"
      ],
      "metadata": {
        "id": "RH-x9yf-eDp-"
      },
      "execution_count": null,
      "outputs": []
    },
    {
      "cell_type": "markdown",
      "source": [
        "<a id=\"expandtabs\"></a>\n",
        "7 expandtabs() -  \n"
      ],
      "metadata": {
        "id": "IXgEFWNEdJy7"
      }
    },
    {
      "cell_type": "code",
      "source": [
        "# voorbeeld van het gebruik van expandtabs()\n"
      ],
      "metadata": {
        "id": "lweV-DAbeAWM"
      },
      "execution_count": null,
      "outputs": []
    },
    {
      "cell_type": "markdown",
      "source": [
        "8 find() -\n"
      ],
      "metadata": {
        "id": "YUDNPbV8dMme"
      }
    },
    {
      "cell_type": "code",
      "source": [
        "# voorbeeld van het gebruik van find()\n"
      ],
      "metadata": {
        "id": "psiwliO4eHLO"
      },
      "execution_count": null,
      "outputs": []
    },
    {
      "cell_type": "markdown",
      "source": [
        "9 format() - formateert een elelement in een string\n"
      ],
      "metadata": {
        "id": "s0rFzz0cdO9G"
      }
    },
    {
      "cell_type": "code",
      "source": [
        "# voorbeeld van het gebruik van format()\n",
        "answer = \"For only {price:.2f} dollars!\"\n",
        "print(answer.format(price=49))"
      ],
      "metadata": {
        "id": "Rmz_-e4zeMoe"
      },
      "execution_count": null,
      "outputs": []
    },
    {
      "cell_type": "markdown",
      "source": [
        "10 format_map() - wijzig de waarde van een dictionary element\n"
      ],
      "metadata": {
        "id": "ZerBUGHrdQzc"
      }
    },
    {
      "cell_type": "code",
      "source": [
        "# voorbeeld van het gebruik van format_map()\n"
      ],
      "metadata": {
        "id": "K4NH2pnHeRsX"
      },
      "execution_count": null,
      "outputs": []
    },
    {
      "cell_type": "markdown",
      "source": [
        "11 index() - zoekt in een sting naar een karakter en geeft de positie van het karakter weer"
      ],
      "metadata": {
        "id": "E3v76jEydSOE"
      }
    },
    {
      "cell_type": "code",
      "execution_count": null,
      "metadata": {
        "id": "m-r3hrFra2wp"
      },
      "outputs": [],
      "source": [
        "# voorbeeld van het gebruik van index()\n",
        "stadion = \"Amsterdam ArenA\"\n",
        "print(stadion.index(\"e\"))"
      ]
    },
    {
      "cell_type": "markdown",
      "source": [
        "12 isalnum()"
      ],
      "metadata": {
        "id": "1HpC9GvlimSc"
      }
    },
    {
      "cell_type": "markdown",
      "source": [
        "13 isalpha()"
      ],
      "metadata": {
        "id": "ulfkc53Wiz0C"
      }
    },
    {
      "cell_type": "markdown",
      "source": [
        "14 isascii()"
      ],
      "metadata": {
        "id": "hPBmOyrLi5cH"
      }
    },
    {
      "cell_type": "code",
      "source": [
        "# voorbeeld van het gebruik van isascii"
      ],
      "metadata": {
        "id": "SvFn8BPouaNg"
      },
      "execution_count": null,
      "outputs": []
    },
    {
      "cell_type": "markdown",
      "source": [
        "15 isdecimal()"
      ],
      "metadata": {
        "id": "H0tNbPQDjAd8"
      }
    },
    {
      "cell_type": "code",
      "source": [
        "# voorbeeld van het gebruik van isdecimal()\n",
        "s = \"0101012\"\n",
        "print(s.isdecimal())"
      ],
      "metadata": {
        "id": "vl5ilHKqjzmW"
      },
      "execution_count": null,
      "outputs": []
    },
    {
      "cell_type": "markdown",
      "source": [
        "16 isdigit()"
      ],
      "metadata": {
        "id": "8oA844X9jFTU"
      }
    },
    {
      "cell_type": "code",
      "source": [
        "# voorbeeld van het gebruik van isdigit()\n",
        "s = \"0101012\"\n",
        "print(s.isdigit())"
      ],
      "metadata": {
        "id": "bpWiKbvMjL1A"
      },
      "execution_count": null,
      "outputs": []
    },
    {
      "cell_type": "markdown",
      "source": [
        "17 islower()"
      ],
      "metadata": {
        "id": "X1rJ0wmu23kN"
      }
    },
    {
      "cell_type": "code",
      "source": [
        "# voorbeeld van het gebruik van islower()"
      ],
      "metadata": {
        "id": "VfgZcXz5227P"
      },
      "execution_count": null,
      "outputs": []
    },
    {
      "cell_type": "markdown",
      "source": [
        "18 isidentifier()"
      ],
      "metadata": {
        "id": "5dxuSz-P27R5"
      }
    },
    {
      "cell_type": "code",
      "source": [],
      "metadata": {
        "id": "3IqyOnKt3lP_"
      },
      "execution_count": null,
      "outputs": []
    },
    {
      "cell_type": "markdown",
      "source": [
        "19"
      ],
      "metadata": {
        "id": "YNd7cxkc283W"
      }
    },
    {
      "cell_type": "code",
      "source": [
        "zin = \"een voorbeeld\"\n",
        "print(zin.title())"
      ],
      "metadata": {
        "id": "O5CZbIeJ5IbJ"
      },
      "execution_count": null,
      "outputs": []
    },
    {
      "cell_type": "markdown",
      "source": [
        "20"
      ],
      "metadata": {
        "id": "43GOd4u93TmX"
      }
    },
    {
      "cell_type": "code",
      "source": [
        "zin = \"wat wordt verstaan onder identifier\"\n",
        "print(zin.isidentifier())"
      ],
      "metadata": {
        "id": "HKZNm4KW5S90"
      },
      "execution_count": null,
      "outputs": []
    },
    {
      "cell_type": "markdown",
      "source": [
        "21"
      ],
      "metadata": {
        "id": "lSgfu5ug3Usg"
      }
    },
    {
      "cell_type": "markdown",
      "source": [
        "22"
      ],
      "metadata": {
        "id": "IRrvdbZD3V_T"
      }
    },
    {
      "cell_type": "markdown",
      "source": [
        "23"
      ],
      "metadata": {
        "id": "fwGO20P93Xr7"
      }
    },
    {
      "cell_type": "markdown",
      "source": [
        "24"
      ],
      "metadata": {
        "id": "ssAmWdaX3Yim"
      }
    },
    {
      "cell_type": "markdown",
      "source": [
        "25"
      ],
      "metadata": {
        "id": "ZZ5hSiC83ZJ7"
      }
    },
    {
      "cell_type": "markdown",
      "source": [],
      "metadata": {
        "id": "RL6urzY53zEd"
      }
    },
    {
      "cell_type": "markdown",
      "source": [
        "98 lower()"
      ],
      "metadata": {
        "id": "qRtYXbeJjrwi"
      }
    },
    {
      "cell_type": "code",
      "source": [
        "# voorbeeld van het gebruik van lower()\n",
        "stadion = \"ArenA\"\n",
        "print(stadion.lower())"
      ],
      "metadata": {
        "id": "BRAl2Op1QtDk"
      },
      "execution_count": null,
      "outputs": []
    },
    {
      "cell_type": "markdown",
      "source": [
        "99 upper()"
      ],
      "metadata": {
        "id": "os_RRX_JuJuK"
      }
    },
    {
      "cell_type": "code",
      "source": [
        "# voorbeeld van het gebruik van upper()\n",
        "stadion = \"ArenA\"\n",
        "print(stadion + stadion.upper())"
      ],
      "metadata": {
        "id": "BVxvMUL7QmAU"
      },
      "execution_count": null,
      "outputs": []
    },
    {
      "cell_type": "code",
      "source": [
        "import numpy as np\n",
        "np.random.seed(1)\n",
        "arr1 = np.random.random((3, 4))\n",
        "print(arr1.sum())"
      ],
      "metadata": {
        "id": "qgBjBP_-_Ikq"
      },
      "execution_count": null,
      "outputs": []
    },
    {
      "cell_type": "code",
      "source": [
        "#What is a correct syntax to return the index of all items that has the value 4 from the array below:\n",
        "arr1 = np.array([1,4,3,4,5,4,4,5])\n",
        "print(np.where(arr1==5))"
      ],
      "metadata": {
        "id": "E_gBzBVSD8cZ"
      },
      "execution_count": null,
      "outputs": []
    }
  ]
}